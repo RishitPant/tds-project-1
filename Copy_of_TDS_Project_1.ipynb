{
  "nbformat": 4,
  "nbformat_minor": 0,
  "metadata": {
    "colab": {
      "provenance": []
    },
    "kernelspec": {
      "name": "python3",
      "display_name": "Python 3"
    },
    "language_info": {
      "name": "python"
    }
  },
  "cells": [
    {
      "cell_type": "code",
      "source": [
        "import requests\n",
        "import pandas as pd\n",
        "import os\n",
        "import time\n",
        "\n",
        "os.environ['GITHUB_TOKEN'] = 'my-token'\n",
        "\n",
        "# GitHub API setup\n",
        "GITHUB_TOKEN = os.getenv('GITHUB_TOKEN')  # Use an environment variable for the token\n",
        "HEADERS = {\n",
        "    'Authorization': f'token {GITHUB_TOKEN}'\n",
        "}\n",
        "BASE_URL = 'https://api.github.com'\n",
        "\n",
        "# Function to get users from Shanghai with over 200 followers\n",
        "def get_users_in_shanghai(min_followers=200, city='Shanghai'):\n",
        "    users = []\n",
        "    page = 1\n",
        "    while True:\n",
        "        url = f\"{BASE_URL}/search/users?q=location:{city}+followers:>{min_followers}&per_page=100&page={page}\"\n",
        "        response = requests.get(url, headers=HEADERS)\n",
        "        if response.status_code != 200:\n",
        "            print(f\"Error fetching users: {response.status_code} {response.text}\")\n",
        "            break\n",
        "        data = response.json()\n",
        "        users += data.get('items', [])\n",
        "        if 'next' not in response.links:\n",
        "            break\n",
        "        page += 1\n",
        "        time.sleep(1)  # Respect GitHub's rate limiting\n",
        "    return users\n",
        "\n",
        "# Function to clean company name\n",
        "def clean_company(company):\n",
        "    if company:\n",
        "        company = company.strip().replace(\"@\", \"\").upper()\n",
        "    return company\n",
        "\n",
        "# Function to fetch detailed user data\n",
        "def get_user_details(login):\n",
        "    url = f\"{BASE_URL}/users/{login}\"\n",
        "    response = requests.get(url, headers=HEADERS)\n",
        "    if response.status_code != 200:\n",
        "        print(f\"Error fetching user details for {login}: {response.status_code} {response.text}\")\n",
        "        return {}\n",
        "    return response.json()\n",
        "\n",
        "# Fetch repository information for each user\n",
        "def get_user_repos(login):\n",
        "    repos = []\n",
        "    page = 1\n",
        "    while True:\n",
        "        url = f\"{BASE_URL}/users/{login}/repos?per_page=100&page={page}\"\n",
        "        response = requests.get(url, headers=HEADERS)\n",
        "        if response.status_code != 200:\n",
        "            print(f\"Error fetching repos for {login}: {response.status_code} {response.text}\")\n",
        "            break\n",
        "        data = response.json()\n",
        "        if not data:\n",
        "            break\n",
        "        repos += data\n",
        "        page += 1\n",
        "        time.sleep(1)  # Respect GitHub's rate limiting\n",
        "        if len(repos) >= 500:  # Limit to 500 repositories\n",
        "            break\n",
        "    return repos\n",
        "\n",
        "# Writing users to CSV using pandas\n",
        "def write_users_csv(users):\n",
        "    user_data = []\n",
        "    for user in users:\n",
        "        details = get_user_details(user['login'])\n",
        "        user_data.append([\n",
        "            details.get('login'), details.get('name'),\n",
        "            clean_company(details.get('company')),\n",
        "            details.get('location'), details.get('email'),\n",
        "            details.get('hireable'), details.get('bio'),\n",
        "            details.get('public_repos'), details.get('followers'),\n",
        "            details.get('following'), details.get('created_at')\n",
        "        ])\n",
        "        time.sleep(1)  # Respect GitHub's rate limiting\n",
        "\n",
        "    df = pd.DataFrame(user_data, columns=[\n",
        "        'login', 'name', 'company', 'location', 'email',\n",
        "        'hireable', 'bio', 'public_repos', 'followers',\n",
        "        'following', 'created_at'\n",
        "    ])\n",
        "    df.to_csv('users.csv', index=False)\n",
        "\n",
        "# Writing repositories to CSV using pandas\n",
        "def write_repos_csv(users):\n",
        "    repo_data = []\n",
        "    for user in users:\n",
        "        repos = get_user_repos(user['login'])\n",
        "        for repo in repos:\n",
        "            license_name = repo.get('license', {}).get('name') if repo.get('license') else 'None'\n",
        "            repo_data.append([\n",
        "                user['login'], repo.get('full_name'), repo.get('created_at'),\n",
        "                repo.get('stargazers_count'), repo.get('watchers_count'),\n",
        "                repo.get('language'), repo.get('has_projects'), repo.get('has_wiki'),\n",
        "                license_name\n",
        "            ])\n",
        "        time.sleep(1)  # Respect GitHub's rate limiting\n",
        "\n",
        "    df = pd.DataFrame(repo_data, columns=[\n",
        "        'login', 'full_name', 'created_at', 'stargazers_count',\n",
        "        'watchers_count', 'language', 'has_projects', 'has_wiki',\n",
        "        'license_name'\n",
        "    ])\n",
        "    df.to_csv('repositories.csv', index=False)\n",
        "\n",
        "# Main Execution\n",
        "if __name__ == '__main__':\n",
        "    users = get_users_in_shanghai(min_followers=200)\n",
        "    write_users_csv(users)\n",
        "    write_repos_csv(users)\n"
      ],
      "metadata": {
        "id": "20On60GV2EK_"
      },
      "execution_count": null,
      "outputs": []
    },
    {
      "cell_type": "code",
      "source": [
        "import csv\n",
        "\n",
        "def write_users_csv(users):\n",
        "    with open('users.csv', mode='w', newline='', encoding='utf-8') as file:\n",
        "        writer = csv.writer(file)\n",
        "        writer.writerow([\n",
        "            'login', 'name', 'company', 'location', 'email',\n",
        "            'hireable', 'bio', 'public_repos', 'followers',\n",
        "            'following', 'created_at'\n",
        "        ])\n",
        "        for user in users:\n",
        "            writer.writerow([\n",
        "                user['login'],\n",
        "                user['name'],\n",
        "                clean_company(user.get('company')),\n",
        "                user['location'],\n",
        "                user['email'],\n",
        "                user['hireable'],\n",
        "                user['bio'],\n",
        "                user['public_repos'],\n",
        "                user['followers'],\n",
        "                user['following'],\n",
        "                user['created_at']\n",
        "            ])\n"
      ],
      "metadata": {
        "id": "fSMk-0G0M-67"
      },
      "execution_count": null,
      "outputs": []
    },
    {
      "cell_type": "code",
      "source": [
        "import pandas as pd\n",
        "\n",
        "users = pd.read_csv('users.csv')\n",
        "repos = pd.read_csv('repositories.csv')"
      ],
      "metadata": {
        "id": "N9XPnl_ZMWyN"
      },
      "execution_count": null,
      "outputs": []
    },
    {
      "cell_type": "code",
      "source": [
        "users['company'] = users['company'].str.strip().str.lstrip('@').str.upper()"
      ],
      "metadata": {
        "id": "NgN9U8tQMkdM"
      },
      "execution_count": null,
      "outputs": []
    },
    {
      "cell_type": "code",
      "source": [
        "users.head()"
      ],
      "metadata": {
        "colab": {
          "base_uri": "https://localhost:8080/",
          "height": 417
        },
        "id": "kKeuW0XCMu0p",
        "outputId": "86103794-82ef-4014-b737-686b3c6ae2cb"
      },
      "execution_count": null,
      "outputs": [
        {
          "output_type": "execute_result",
          "data": {
            "text/plain": [
              "         login          name          company                    location  \\\n",
              "0  peng-zhihui            稚晖  HUAWEI RESEARCH                    Shanghai   \n",
              "1       ruanyf   Ruan YiFeng              NaN             Shanghai, China   \n",
              "2       phodal  Fengda Huang     THOUGHTWORKS  Shanghai / Hangzhou, China   \n",
              "3       liyupi         程序员鱼皮   编程学习公众号【程序员鱼皮】              China Shanghai   \n",
              "4   stormzhang    stormzhang     BOOHEE, INC.             Shanghai, China   \n",
              "\n",
              "                      email hireable                                  bio  \\\n",
              "0  prime_zhihui@foxmail.com      NaN                             野生钢铁侠本侠。   \n",
              "1     yifeng.ruan@gmail.com      NaN                                  NaN   \n",
              "2              h@phodal.com     True                   I'm digging holes.   \n",
              "3          592789970@qq.com     True  speak less do more！前腾讯全栈开发，现科技公司创始人   \n",
              "4  stormzhang.dev@gmail.com      NaN                     微信公众号：stormzhang   \n",
              "\n",
              "   public_repos  followers  following            created_at  \n",
              "0            56      80545          9  2015-06-22T04:59:39Z  \n",
              "1            72      79285          0  2011-07-10T01:07:17Z  \n",
              "2           367      20050          9  2010-11-08T11:46:51Z  \n",
              "3            82      17339         29  2017-02-26T08:44:22Z  \n",
              "4             5      15879         91  2012-09-03T02:58:11Z  "
            ],
            "text/html": [
              "\n",
              "  <div id=\"df-e6079487-3b1a-4115-a180-f3a8ea0a3808\" class=\"colab-df-container\">\n",
              "    <div>\n",
              "<style scoped>\n",
              "    .dataframe tbody tr th:only-of-type {\n",
              "        vertical-align: middle;\n",
              "    }\n",
              "\n",
              "    .dataframe tbody tr th {\n",
              "        vertical-align: top;\n",
              "    }\n",
              "\n",
              "    .dataframe thead th {\n",
              "        text-align: right;\n",
              "    }\n",
              "</style>\n",
              "<table border=\"1\" class=\"dataframe\">\n",
              "  <thead>\n",
              "    <tr style=\"text-align: right;\">\n",
              "      <th></th>\n",
              "      <th>login</th>\n",
              "      <th>name</th>\n",
              "      <th>company</th>\n",
              "      <th>location</th>\n",
              "      <th>email</th>\n",
              "      <th>hireable</th>\n",
              "      <th>bio</th>\n",
              "      <th>public_repos</th>\n",
              "      <th>followers</th>\n",
              "      <th>following</th>\n",
              "      <th>created_at</th>\n",
              "    </tr>\n",
              "  </thead>\n",
              "  <tbody>\n",
              "    <tr>\n",
              "      <th>0</th>\n",
              "      <td>peng-zhihui</td>\n",
              "      <td>稚晖</td>\n",
              "      <td>HUAWEI RESEARCH</td>\n",
              "      <td>Shanghai</td>\n",
              "      <td>prime_zhihui@foxmail.com</td>\n",
              "      <td>NaN</td>\n",
              "      <td>野生钢铁侠本侠。</td>\n",
              "      <td>56</td>\n",
              "      <td>80545</td>\n",
              "      <td>9</td>\n",
              "      <td>2015-06-22T04:59:39Z</td>\n",
              "    </tr>\n",
              "    <tr>\n",
              "      <th>1</th>\n",
              "      <td>ruanyf</td>\n",
              "      <td>Ruan YiFeng</td>\n",
              "      <td>NaN</td>\n",
              "      <td>Shanghai, China</td>\n",
              "      <td>yifeng.ruan@gmail.com</td>\n",
              "      <td>NaN</td>\n",
              "      <td>NaN</td>\n",
              "      <td>72</td>\n",
              "      <td>79285</td>\n",
              "      <td>0</td>\n",
              "      <td>2011-07-10T01:07:17Z</td>\n",
              "    </tr>\n",
              "    <tr>\n",
              "      <th>2</th>\n",
              "      <td>phodal</td>\n",
              "      <td>Fengda Huang</td>\n",
              "      <td>THOUGHTWORKS</td>\n",
              "      <td>Shanghai / Hangzhou, China</td>\n",
              "      <td>h@phodal.com</td>\n",
              "      <td>True</td>\n",
              "      <td>I'm digging holes.</td>\n",
              "      <td>367</td>\n",
              "      <td>20050</td>\n",
              "      <td>9</td>\n",
              "      <td>2010-11-08T11:46:51Z</td>\n",
              "    </tr>\n",
              "    <tr>\n",
              "      <th>3</th>\n",
              "      <td>liyupi</td>\n",
              "      <td>程序员鱼皮</td>\n",
              "      <td>编程学习公众号【程序员鱼皮】</td>\n",
              "      <td>China Shanghai</td>\n",
              "      <td>592789970@qq.com</td>\n",
              "      <td>True</td>\n",
              "      <td>speak less do more！前腾讯全栈开发，现科技公司创始人</td>\n",
              "      <td>82</td>\n",
              "      <td>17339</td>\n",
              "      <td>29</td>\n",
              "      <td>2017-02-26T08:44:22Z</td>\n",
              "    </tr>\n",
              "    <tr>\n",
              "      <th>4</th>\n",
              "      <td>stormzhang</td>\n",
              "      <td>stormzhang</td>\n",
              "      <td>BOOHEE, INC.</td>\n",
              "      <td>Shanghai, China</td>\n",
              "      <td>stormzhang.dev@gmail.com</td>\n",
              "      <td>NaN</td>\n",
              "      <td>微信公众号：stormzhang</td>\n",
              "      <td>5</td>\n",
              "      <td>15879</td>\n",
              "      <td>91</td>\n",
              "      <td>2012-09-03T02:58:11Z</td>\n",
              "    </tr>\n",
              "  </tbody>\n",
              "</table>\n",
              "</div>\n",
              "    <div class=\"colab-df-buttons\">\n",
              "\n",
              "  <div class=\"colab-df-container\">\n",
              "    <button class=\"colab-df-convert\" onclick=\"convertToInteractive('df-e6079487-3b1a-4115-a180-f3a8ea0a3808')\"\n",
              "            title=\"Convert this dataframe to an interactive table.\"\n",
              "            style=\"display:none;\">\n",
              "\n",
              "  <svg xmlns=\"http://www.w3.org/2000/svg\" height=\"24px\" viewBox=\"0 -960 960 960\">\n",
              "    <path d=\"M120-120v-720h720v720H120Zm60-500h600v-160H180v160Zm220 220h160v-160H400v160Zm0 220h160v-160H400v160ZM180-400h160v-160H180v160Zm440 0h160v-160H620v160ZM180-180h160v-160H180v160Zm440 0h160v-160H620v160Z\"/>\n",
              "  </svg>\n",
              "    </button>\n",
              "\n",
              "  <style>\n",
              "    .colab-df-container {\n",
              "      display:flex;\n",
              "      gap: 12px;\n",
              "    }\n",
              "\n",
              "    .colab-df-convert {\n",
              "      background-color: #E8F0FE;\n",
              "      border: none;\n",
              "      border-radius: 50%;\n",
              "      cursor: pointer;\n",
              "      display: none;\n",
              "      fill: #1967D2;\n",
              "      height: 32px;\n",
              "      padding: 0 0 0 0;\n",
              "      width: 32px;\n",
              "    }\n",
              "\n",
              "    .colab-df-convert:hover {\n",
              "      background-color: #E2EBFA;\n",
              "      box-shadow: 0px 1px 2px rgba(60, 64, 67, 0.3), 0px 1px 3px 1px rgba(60, 64, 67, 0.15);\n",
              "      fill: #174EA6;\n",
              "    }\n",
              "\n",
              "    .colab-df-buttons div {\n",
              "      margin-bottom: 4px;\n",
              "    }\n",
              "\n",
              "    [theme=dark] .colab-df-convert {\n",
              "      background-color: #3B4455;\n",
              "      fill: #D2E3FC;\n",
              "    }\n",
              "\n",
              "    [theme=dark] .colab-df-convert:hover {\n",
              "      background-color: #434B5C;\n",
              "      box-shadow: 0px 1px 3px 1px rgba(0, 0, 0, 0.15);\n",
              "      filter: drop-shadow(0px 1px 2px rgba(0, 0, 0, 0.3));\n",
              "      fill: #FFFFFF;\n",
              "    }\n",
              "  </style>\n",
              "\n",
              "    <script>\n",
              "      const buttonEl =\n",
              "        document.querySelector('#df-e6079487-3b1a-4115-a180-f3a8ea0a3808 button.colab-df-convert');\n",
              "      buttonEl.style.display =\n",
              "        google.colab.kernel.accessAllowed ? 'block' : 'none';\n",
              "\n",
              "      async function convertToInteractive(key) {\n",
              "        const element = document.querySelector('#df-e6079487-3b1a-4115-a180-f3a8ea0a3808');\n",
              "        const dataTable =\n",
              "          await google.colab.kernel.invokeFunction('convertToInteractive',\n",
              "                                                    [key], {});\n",
              "        if (!dataTable) return;\n",
              "\n",
              "        const docLinkHtml = 'Like what you see? Visit the ' +\n",
              "          '<a target=\"_blank\" href=https://colab.research.google.com/notebooks/data_table.ipynb>data table notebook</a>'\n",
              "          + ' to learn more about interactive tables.';\n",
              "        element.innerHTML = '';\n",
              "        dataTable['output_type'] = 'display_data';\n",
              "        await google.colab.output.renderOutput(dataTable, element);\n",
              "        const docLink = document.createElement('div');\n",
              "        docLink.innerHTML = docLinkHtml;\n",
              "        element.appendChild(docLink);\n",
              "      }\n",
              "    </script>\n",
              "  </div>\n",
              "\n",
              "\n",
              "<div id=\"df-8f359b9b-8237-458b-a96b-9a82bd4b6215\">\n",
              "  <button class=\"colab-df-quickchart\" onclick=\"quickchart('df-8f359b9b-8237-458b-a96b-9a82bd4b6215')\"\n",
              "            title=\"Suggest charts\"\n",
              "            style=\"display:none;\">\n",
              "\n",
              "<svg xmlns=\"http://www.w3.org/2000/svg\" height=\"24px\"viewBox=\"0 0 24 24\"\n",
              "     width=\"24px\">\n",
              "    <g>\n",
              "        <path d=\"M19 3H5c-1.1 0-2 .9-2 2v14c0 1.1.9 2 2 2h14c1.1 0 2-.9 2-2V5c0-1.1-.9-2-2-2zM9 17H7v-7h2v7zm4 0h-2V7h2v10zm4 0h-2v-4h2v4z\"/>\n",
              "    </g>\n",
              "</svg>\n",
              "  </button>\n",
              "\n",
              "<style>\n",
              "  .colab-df-quickchart {\n",
              "      --bg-color: #E8F0FE;\n",
              "      --fill-color: #1967D2;\n",
              "      --hover-bg-color: #E2EBFA;\n",
              "      --hover-fill-color: #174EA6;\n",
              "      --disabled-fill-color: #AAA;\n",
              "      --disabled-bg-color: #DDD;\n",
              "  }\n",
              "\n",
              "  [theme=dark] .colab-df-quickchart {\n",
              "      --bg-color: #3B4455;\n",
              "      --fill-color: #D2E3FC;\n",
              "      --hover-bg-color: #434B5C;\n",
              "      --hover-fill-color: #FFFFFF;\n",
              "      --disabled-bg-color: #3B4455;\n",
              "      --disabled-fill-color: #666;\n",
              "  }\n",
              "\n",
              "  .colab-df-quickchart {\n",
              "    background-color: var(--bg-color);\n",
              "    border: none;\n",
              "    border-radius: 50%;\n",
              "    cursor: pointer;\n",
              "    display: none;\n",
              "    fill: var(--fill-color);\n",
              "    height: 32px;\n",
              "    padding: 0;\n",
              "    width: 32px;\n",
              "  }\n",
              "\n",
              "  .colab-df-quickchart:hover {\n",
              "    background-color: var(--hover-bg-color);\n",
              "    box-shadow: 0 1px 2px rgba(60, 64, 67, 0.3), 0 1px 3px 1px rgba(60, 64, 67, 0.15);\n",
              "    fill: var(--button-hover-fill-color);\n",
              "  }\n",
              "\n",
              "  .colab-df-quickchart-complete:disabled,\n",
              "  .colab-df-quickchart-complete:disabled:hover {\n",
              "    background-color: var(--disabled-bg-color);\n",
              "    fill: var(--disabled-fill-color);\n",
              "    box-shadow: none;\n",
              "  }\n",
              "\n",
              "  .colab-df-spinner {\n",
              "    border: 2px solid var(--fill-color);\n",
              "    border-color: transparent;\n",
              "    border-bottom-color: var(--fill-color);\n",
              "    animation:\n",
              "      spin 1s steps(1) infinite;\n",
              "  }\n",
              "\n",
              "  @keyframes spin {\n",
              "    0% {\n",
              "      border-color: transparent;\n",
              "      border-bottom-color: var(--fill-color);\n",
              "      border-left-color: var(--fill-color);\n",
              "    }\n",
              "    20% {\n",
              "      border-color: transparent;\n",
              "      border-left-color: var(--fill-color);\n",
              "      border-top-color: var(--fill-color);\n",
              "    }\n",
              "    30% {\n",
              "      border-color: transparent;\n",
              "      border-left-color: var(--fill-color);\n",
              "      border-top-color: var(--fill-color);\n",
              "      border-right-color: var(--fill-color);\n",
              "    }\n",
              "    40% {\n",
              "      border-color: transparent;\n",
              "      border-right-color: var(--fill-color);\n",
              "      border-top-color: var(--fill-color);\n",
              "    }\n",
              "    60% {\n",
              "      border-color: transparent;\n",
              "      border-right-color: var(--fill-color);\n",
              "    }\n",
              "    80% {\n",
              "      border-color: transparent;\n",
              "      border-right-color: var(--fill-color);\n",
              "      border-bottom-color: var(--fill-color);\n",
              "    }\n",
              "    90% {\n",
              "      border-color: transparent;\n",
              "      border-bottom-color: var(--fill-color);\n",
              "    }\n",
              "  }\n",
              "</style>\n",
              "\n",
              "  <script>\n",
              "    async function quickchart(key) {\n",
              "      const quickchartButtonEl =\n",
              "        document.querySelector('#' + key + ' button');\n",
              "      quickchartButtonEl.disabled = true;  // To prevent multiple clicks.\n",
              "      quickchartButtonEl.classList.add('colab-df-spinner');\n",
              "      try {\n",
              "        const charts = await google.colab.kernel.invokeFunction(\n",
              "            'suggestCharts', [key], {});\n",
              "      } catch (error) {\n",
              "        console.error('Error during call to suggestCharts:', error);\n",
              "      }\n",
              "      quickchartButtonEl.classList.remove('colab-df-spinner');\n",
              "      quickchartButtonEl.classList.add('colab-df-quickchart-complete');\n",
              "    }\n",
              "    (() => {\n",
              "      let quickchartButtonEl =\n",
              "        document.querySelector('#df-8f359b9b-8237-458b-a96b-9a82bd4b6215 button');\n",
              "      quickchartButtonEl.style.display =\n",
              "        google.colab.kernel.accessAllowed ? 'block' : 'none';\n",
              "    })();\n",
              "  </script>\n",
              "</div>\n",
              "\n",
              "    </div>\n",
              "  </div>\n"
            ],
            "application/vnd.google.colaboratory.intrinsic+json": {
              "type": "dataframe",
              "variable_name": "users",
              "summary": "{\n  \"name\": \"users\",\n  \"rows\": 738,\n  \"fields\": [\n    {\n      \"column\": \"login\",\n      \"properties\": {\n        \"dtype\": \"string\",\n        \"num_unique_values\": 738,\n        \"samples\": [\n          \"xiandanin\",\n          \"goddyZhao\",\n          \"langgithub\"\n        ],\n        \"semantic_type\": \"\",\n        \"description\": \"\"\n      }\n    },\n    {\n      \"column\": \"name\",\n      \"properties\": {\n        \"dtype\": \"string\",\n        \"num_unique_values\": 699,\n        \"samples\": [\n          \"kingname\",\n          \"Kaijun Chen\",\n          \"yxxx\"\n        ],\n        \"semantic_type\": \"\",\n        \"description\": \"\"\n      }\n    },\n    {\n      \"column\": \"company\",\n      \"properties\": {\n        \"dtype\": \"category\",\n        \"num_unique_values\": 311,\n        \"samples\": [\n          \"ALIBABA GROUP\",\n          \"PDD TAOBAO ALIYUN ALIBABA\",\n          \"LDC LABS, PREV: TEAMBITION, ALIYUN\"\n        ],\n        \"semantic_type\": \"\",\n        \"description\": \"\"\n      }\n    },\n    {\n      \"column\": \"location\",\n      \"properties\": {\n        \"dtype\": \"category\",\n        \"num_unique_values\": 87,\n        \"samples\": [\n          \"China-Shanghai\",\n          \"Shanghai\",\n          \"\\u4e0a\\u6d77(ShangHai,China)\"\n        ],\n        \"semantic_type\": \"\",\n        \"description\": \"\"\n      }\n    },\n    {\n      \"column\": \"email\",\n      \"properties\": {\n        \"dtype\": \"string\",\n        \"num_unique_values\": 511,\n        \"samples\": [\n          \"zigao.wang24@gmail.com\",\n          \"zbw@kaiyuanshe.org\",\n          \"tj_csccg@163.com\"\n        ],\n        \"semantic_type\": \"\",\n        \"description\": \"\"\n      }\n    },\n    {\n      \"column\": \"hireable\",\n      \"properties\": {\n        \"dtype\": \"category\",\n        \"num_unique_values\": 1,\n        \"samples\": [\n          true\n        ],\n        \"semantic_type\": \"\",\n        \"description\": \"\"\n      }\n    },\n    {\n      \"column\": \"bio\",\n      \"properties\": {\n        \"dtype\": \"string\",\n        \"num_unique_values\": 526,\n        \"samples\": [\n          \"I have bad ideas\"\n        ],\n        \"semantic_type\": \"\",\n        \"description\": \"\"\n      }\n    },\n    {\n      \"column\": \"public_repos\",\n      \"properties\": {\n        \"dtype\": \"number\",\n        \"std\": 424,\n        \"min\": 0,\n        \"max\": 11052,\n        \"num_unique_values\": 210,\n        \"samples\": [\n          64\n        ],\n        \"semantic_type\": \"\",\n        \"description\": \"\"\n      }\n    },\n    {\n      \"column\": \"followers\",\n      \"properties\": {\n        \"dtype\": \"number\",\n        \"std\": 4517,\n        \"min\": 201,\n        \"max\": 80545,\n        \"num_unique_values\": 456,\n        \"samples\": [\n          291\n        ],\n        \"semantic_type\": \"\",\n        \"description\": \"\"\n      }\n    },\n    {\n      \"column\": \"following\",\n      \"properties\": {\n        \"dtype\": \"number\",\n        \"std\": 1019,\n        \"min\": 0,\n        \"max\": 19632,\n        \"num_unique_values\": 263,\n        \"samples\": [\n          2603\n        ],\n        \"semantic_type\": \"\",\n        \"description\": \"\"\n      }\n    },\n    {\n      \"column\": \"created_at\",\n      \"properties\": {\n        \"dtype\": \"object\",\n        \"num_unique_values\": 738,\n        \"samples\": [\n          \"2016-03-02T08:40:53Z\"\n        ],\n        \"semantic_type\": \"\",\n        \"description\": \"\"\n      }\n    }\n  ]\n}"
            }
          },
          "metadata": {},
          "execution_count": 13
        }
      ]
    },
    {
      "cell_type": "code",
      "source": [
        "users.fillna('', inplace=True)"
      ],
      "metadata": {
        "id": "fXSkxGapM3ub"
      },
      "execution_count": null,
      "outputs": []
    },
    {
      "cell_type": "code",
      "source": [
        "users.info()"
      ],
      "metadata": {
        "colab": {
          "base_uri": "https://localhost:8080/"
        },
        "id": "YUC7ugmoM6ua",
        "outputId": "ab939309-3386-48cc-bf8e-dff68f7416e3"
      },
      "execution_count": null,
      "outputs": [
        {
          "output_type": "stream",
          "name": "stdout",
          "text": [
            "<class 'pandas.core.frame.DataFrame'>\n",
            "RangeIndex: 738 entries, 0 to 737\n",
            "Data columns (total 11 columns):\n",
            " #   Column        Non-Null Count  Dtype \n",
            "---  ------        --------------  ----- \n",
            " 0   login         738 non-null    object\n",
            " 1   name          738 non-null    object\n",
            " 2   company       738 non-null    object\n",
            " 3   location      738 non-null    object\n",
            " 4   email         738 non-null    object\n",
            " 5   hireable      738 non-null    object\n",
            " 6   bio           738 non-null    object\n",
            " 7   public_repos  738 non-null    int64 \n",
            " 8   followers     738 non-null    int64 \n",
            " 9   following     738 non-null    int64 \n",
            " 10  created_at    738 non-null    object\n",
            "dtypes: int64(3), object(8)\n",
            "memory usage: 63.5+ KB\n"
          ]
        }
      ]
    },
    {
      "cell_type": "code",
      "source": [
        "users['hireable'] = users['hireable'].map({True: 'true', False: 'false'})\n"
      ],
      "metadata": {
        "id": "twhradp1NC2u"
      },
      "execution_count": null,
      "outputs": []
    },
    {
      "cell_type": "code",
      "source": [
        "users.head()"
      ],
      "metadata": {
        "colab": {
          "base_uri": "https://localhost:8080/",
          "height": 417
        },
        "id": "byzfSYVKNRL5",
        "outputId": "c3fb2186-a04e-4898-89e1-46987e2239ac"
      },
      "execution_count": null,
      "outputs": [
        {
          "output_type": "execute_result",
          "data": {
            "text/plain": [
              "         login          name          company                    location  \\\n",
              "0  peng-zhihui            稚晖  HUAWEI RESEARCH                    Shanghai   \n",
              "1       ruanyf   Ruan YiFeng                              Shanghai, China   \n",
              "2       phodal  Fengda Huang     THOUGHTWORKS  Shanghai / Hangzhou, China   \n",
              "3       liyupi         程序员鱼皮   编程学习公众号【程序员鱼皮】              China Shanghai   \n",
              "4   stormzhang    stormzhang     BOOHEE, INC.             Shanghai, China   \n",
              "\n",
              "                      email hireable                                  bio  \\\n",
              "0  prime_zhihui@foxmail.com                                      野生钢铁侠本侠。   \n",
              "1     yifeng.ruan@gmail.com                                                 \n",
              "2              h@phodal.com     true                   I'm digging holes.   \n",
              "3          592789970@qq.com     true  speak less do more！前腾讯全栈开发，现科技公司创始人   \n",
              "4  stormzhang.dev@gmail.com                              微信公众号：stormzhang   \n",
              "\n",
              "   public_repos  followers  following            created_at  \n",
              "0            56      80545          9  2015-06-22T04:59:39Z  \n",
              "1            72      79285          0  2011-07-10T01:07:17Z  \n",
              "2           367      20050          9  2010-11-08T11:46:51Z  \n",
              "3            82      17339         29  2017-02-26T08:44:22Z  \n",
              "4             5      15879         91  2012-09-03T02:58:11Z  "
            ],
            "text/html": [
              "\n",
              "  <div id=\"df-e7e1ec75-5447-460c-b134-ebffe564d61b\" class=\"colab-df-container\">\n",
              "    <div>\n",
              "<style scoped>\n",
              "    .dataframe tbody tr th:only-of-type {\n",
              "        vertical-align: middle;\n",
              "    }\n",
              "\n",
              "    .dataframe tbody tr th {\n",
              "        vertical-align: top;\n",
              "    }\n",
              "\n",
              "    .dataframe thead th {\n",
              "        text-align: right;\n",
              "    }\n",
              "</style>\n",
              "<table border=\"1\" class=\"dataframe\">\n",
              "  <thead>\n",
              "    <tr style=\"text-align: right;\">\n",
              "      <th></th>\n",
              "      <th>login</th>\n",
              "      <th>name</th>\n",
              "      <th>company</th>\n",
              "      <th>location</th>\n",
              "      <th>email</th>\n",
              "      <th>hireable</th>\n",
              "      <th>bio</th>\n",
              "      <th>public_repos</th>\n",
              "      <th>followers</th>\n",
              "      <th>following</th>\n",
              "      <th>created_at</th>\n",
              "    </tr>\n",
              "  </thead>\n",
              "  <tbody>\n",
              "    <tr>\n",
              "      <th>0</th>\n",
              "      <td>peng-zhihui</td>\n",
              "      <td>稚晖</td>\n",
              "      <td>HUAWEI RESEARCH</td>\n",
              "      <td>Shanghai</td>\n",
              "      <td>prime_zhihui@foxmail.com</td>\n",
              "      <td></td>\n",
              "      <td>野生钢铁侠本侠。</td>\n",
              "      <td>56</td>\n",
              "      <td>80545</td>\n",
              "      <td>9</td>\n",
              "      <td>2015-06-22T04:59:39Z</td>\n",
              "    </tr>\n",
              "    <tr>\n",
              "      <th>1</th>\n",
              "      <td>ruanyf</td>\n",
              "      <td>Ruan YiFeng</td>\n",
              "      <td></td>\n",
              "      <td>Shanghai, China</td>\n",
              "      <td>yifeng.ruan@gmail.com</td>\n",
              "      <td></td>\n",
              "      <td></td>\n",
              "      <td>72</td>\n",
              "      <td>79285</td>\n",
              "      <td>0</td>\n",
              "      <td>2011-07-10T01:07:17Z</td>\n",
              "    </tr>\n",
              "    <tr>\n",
              "      <th>2</th>\n",
              "      <td>phodal</td>\n",
              "      <td>Fengda Huang</td>\n",
              "      <td>THOUGHTWORKS</td>\n",
              "      <td>Shanghai / Hangzhou, China</td>\n",
              "      <td>h@phodal.com</td>\n",
              "      <td>true</td>\n",
              "      <td>I'm digging holes.</td>\n",
              "      <td>367</td>\n",
              "      <td>20050</td>\n",
              "      <td>9</td>\n",
              "      <td>2010-11-08T11:46:51Z</td>\n",
              "    </tr>\n",
              "    <tr>\n",
              "      <th>3</th>\n",
              "      <td>liyupi</td>\n",
              "      <td>程序员鱼皮</td>\n",
              "      <td>编程学习公众号【程序员鱼皮】</td>\n",
              "      <td>China Shanghai</td>\n",
              "      <td>592789970@qq.com</td>\n",
              "      <td>true</td>\n",
              "      <td>speak less do more！前腾讯全栈开发，现科技公司创始人</td>\n",
              "      <td>82</td>\n",
              "      <td>17339</td>\n",
              "      <td>29</td>\n",
              "      <td>2017-02-26T08:44:22Z</td>\n",
              "    </tr>\n",
              "    <tr>\n",
              "      <th>4</th>\n",
              "      <td>stormzhang</td>\n",
              "      <td>stormzhang</td>\n",
              "      <td>BOOHEE, INC.</td>\n",
              "      <td>Shanghai, China</td>\n",
              "      <td>stormzhang.dev@gmail.com</td>\n",
              "      <td></td>\n",
              "      <td>微信公众号：stormzhang</td>\n",
              "      <td>5</td>\n",
              "      <td>15879</td>\n",
              "      <td>91</td>\n",
              "      <td>2012-09-03T02:58:11Z</td>\n",
              "    </tr>\n",
              "  </tbody>\n",
              "</table>\n",
              "</div>\n",
              "    <div class=\"colab-df-buttons\">\n",
              "\n",
              "  <div class=\"colab-df-container\">\n",
              "    <button class=\"colab-df-convert\" onclick=\"convertToInteractive('df-e7e1ec75-5447-460c-b134-ebffe564d61b')\"\n",
              "            title=\"Convert this dataframe to an interactive table.\"\n",
              "            style=\"display:none;\">\n",
              "\n",
              "  <svg xmlns=\"http://www.w3.org/2000/svg\" height=\"24px\" viewBox=\"0 -960 960 960\">\n",
              "    <path d=\"M120-120v-720h720v720H120Zm60-500h600v-160H180v160Zm220 220h160v-160H400v160Zm0 220h160v-160H400v160ZM180-400h160v-160H180v160Zm440 0h160v-160H620v160ZM180-180h160v-160H180v160Zm440 0h160v-160H620v160Z\"/>\n",
              "  </svg>\n",
              "    </button>\n",
              "\n",
              "  <style>\n",
              "    .colab-df-container {\n",
              "      display:flex;\n",
              "      gap: 12px;\n",
              "    }\n",
              "\n",
              "    .colab-df-convert {\n",
              "      background-color: #E8F0FE;\n",
              "      border: none;\n",
              "      border-radius: 50%;\n",
              "      cursor: pointer;\n",
              "      display: none;\n",
              "      fill: #1967D2;\n",
              "      height: 32px;\n",
              "      padding: 0 0 0 0;\n",
              "      width: 32px;\n",
              "    }\n",
              "\n",
              "    .colab-df-convert:hover {\n",
              "      background-color: #E2EBFA;\n",
              "      box-shadow: 0px 1px 2px rgba(60, 64, 67, 0.3), 0px 1px 3px 1px rgba(60, 64, 67, 0.15);\n",
              "      fill: #174EA6;\n",
              "    }\n",
              "\n",
              "    .colab-df-buttons div {\n",
              "      margin-bottom: 4px;\n",
              "    }\n",
              "\n",
              "    [theme=dark] .colab-df-convert {\n",
              "      background-color: #3B4455;\n",
              "      fill: #D2E3FC;\n",
              "    }\n",
              "\n",
              "    [theme=dark] .colab-df-convert:hover {\n",
              "      background-color: #434B5C;\n",
              "      box-shadow: 0px 1px 3px 1px rgba(0, 0, 0, 0.15);\n",
              "      filter: drop-shadow(0px 1px 2px rgba(0, 0, 0, 0.3));\n",
              "      fill: #FFFFFF;\n",
              "    }\n",
              "  </style>\n",
              "\n",
              "    <script>\n",
              "      const buttonEl =\n",
              "        document.querySelector('#df-e7e1ec75-5447-460c-b134-ebffe564d61b button.colab-df-convert');\n",
              "      buttonEl.style.display =\n",
              "        google.colab.kernel.accessAllowed ? 'block' : 'none';\n",
              "\n",
              "      async function convertToInteractive(key) {\n",
              "        const element = document.querySelector('#df-e7e1ec75-5447-460c-b134-ebffe564d61b');\n",
              "        const dataTable =\n",
              "          await google.colab.kernel.invokeFunction('convertToInteractive',\n",
              "                                                    [key], {});\n",
              "        if (!dataTable) return;\n",
              "\n",
              "        const docLinkHtml = 'Like what you see? Visit the ' +\n",
              "          '<a target=\"_blank\" href=https://colab.research.google.com/notebooks/data_table.ipynb>data table notebook</a>'\n",
              "          + ' to learn more about interactive tables.';\n",
              "        element.innerHTML = '';\n",
              "        dataTable['output_type'] = 'display_data';\n",
              "        await google.colab.output.renderOutput(dataTable, element);\n",
              "        const docLink = document.createElement('div');\n",
              "        docLink.innerHTML = docLinkHtml;\n",
              "        element.appendChild(docLink);\n",
              "      }\n",
              "    </script>\n",
              "  </div>\n",
              "\n",
              "\n",
              "<div id=\"df-4b80e4a7-4990-4dd3-a0be-491598411af8\">\n",
              "  <button class=\"colab-df-quickchart\" onclick=\"quickchart('df-4b80e4a7-4990-4dd3-a0be-491598411af8')\"\n",
              "            title=\"Suggest charts\"\n",
              "            style=\"display:none;\">\n",
              "\n",
              "<svg xmlns=\"http://www.w3.org/2000/svg\" height=\"24px\"viewBox=\"0 0 24 24\"\n",
              "     width=\"24px\">\n",
              "    <g>\n",
              "        <path d=\"M19 3H5c-1.1 0-2 .9-2 2v14c0 1.1.9 2 2 2h14c1.1 0 2-.9 2-2V5c0-1.1-.9-2-2-2zM9 17H7v-7h2v7zm4 0h-2V7h2v10zm4 0h-2v-4h2v4z\"/>\n",
              "    </g>\n",
              "</svg>\n",
              "  </button>\n",
              "\n",
              "<style>\n",
              "  .colab-df-quickchart {\n",
              "      --bg-color: #E8F0FE;\n",
              "      --fill-color: #1967D2;\n",
              "      --hover-bg-color: #E2EBFA;\n",
              "      --hover-fill-color: #174EA6;\n",
              "      --disabled-fill-color: #AAA;\n",
              "      --disabled-bg-color: #DDD;\n",
              "  }\n",
              "\n",
              "  [theme=dark] .colab-df-quickchart {\n",
              "      --bg-color: #3B4455;\n",
              "      --fill-color: #D2E3FC;\n",
              "      --hover-bg-color: #434B5C;\n",
              "      --hover-fill-color: #FFFFFF;\n",
              "      --disabled-bg-color: #3B4455;\n",
              "      --disabled-fill-color: #666;\n",
              "  }\n",
              "\n",
              "  .colab-df-quickchart {\n",
              "    background-color: var(--bg-color);\n",
              "    border: none;\n",
              "    border-radius: 50%;\n",
              "    cursor: pointer;\n",
              "    display: none;\n",
              "    fill: var(--fill-color);\n",
              "    height: 32px;\n",
              "    padding: 0;\n",
              "    width: 32px;\n",
              "  }\n",
              "\n",
              "  .colab-df-quickchart:hover {\n",
              "    background-color: var(--hover-bg-color);\n",
              "    box-shadow: 0 1px 2px rgba(60, 64, 67, 0.3), 0 1px 3px 1px rgba(60, 64, 67, 0.15);\n",
              "    fill: var(--button-hover-fill-color);\n",
              "  }\n",
              "\n",
              "  .colab-df-quickchart-complete:disabled,\n",
              "  .colab-df-quickchart-complete:disabled:hover {\n",
              "    background-color: var(--disabled-bg-color);\n",
              "    fill: var(--disabled-fill-color);\n",
              "    box-shadow: none;\n",
              "  }\n",
              "\n",
              "  .colab-df-spinner {\n",
              "    border: 2px solid var(--fill-color);\n",
              "    border-color: transparent;\n",
              "    border-bottom-color: var(--fill-color);\n",
              "    animation:\n",
              "      spin 1s steps(1) infinite;\n",
              "  }\n",
              "\n",
              "  @keyframes spin {\n",
              "    0% {\n",
              "      border-color: transparent;\n",
              "      border-bottom-color: var(--fill-color);\n",
              "      border-left-color: var(--fill-color);\n",
              "    }\n",
              "    20% {\n",
              "      border-color: transparent;\n",
              "      border-left-color: var(--fill-color);\n",
              "      border-top-color: var(--fill-color);\n",
              "    }\n",
              "    30% {\n",
              "      border-color: transparent;\n",
              "      border-left-color: var(--fill-color);\n",
              "      border-top-color: var(--fill-color);\n",
              "      border-right-color: var(--fill-color);\n",
              "    }\n",
              "    40% {\n",
              "      border-color: transparent;\n",
              "      border-right-color: var(--fill-color);\n",
              "      border-top-color: var(--fill-color);\n",
              "    }\n",
              "    60% {\n",
              "      border-color: transparent;\n",
              "      border-right-color: var(--fill-color);\n",
              "    }\n",
              "    80% {\n",
              "      border-color: transparent;\n",
              "      border-right-color: var(--fill-color);\n",
              "      border-bottom-color: var(--fill-color);\n",
              "    }\n",
              "    90% {\n",
              "      border-color: transparent;\n",
              "      border-bottom-color: var(--fill-color);\n",
              "    }\n",
              "  }\n",
              "</style>\n",
              "\n",
              "  <script>\n",
              "    async function quickchart(key) {\n",
              "      const quickchartButtonEl =\n",
              "        document.querySelector('#' + key + ' button');\n",
              "      quickchartButtonEl.disabled = true;  // To prevent multiple clicks.\n",
              "      quickchartButtonEl.classList.add('colab-df-spinner');\n",
              "      try {\n",
              "        const charts = await google.colab.kernel.invokeFunction(\n",
              "            'suggestCharts', [key], {});\n",
              "      } catch (error) {\n",
              "        console.error('Error during call to suggestCharts:', error);\n",
              "      }\n",
              "      quickchartButtonEl.classList.remove('colab-df-spinner');\n",
              "      quickchartButtonEl.classList.add('colab-df-quickchart-complete');\n",
              "    }\n",
              "    (() => {\n",
              "      let quickchartButtonEl =\n",
              "        document.querySelector('#df-4b80e4a7-4990-4dd3-a0be-491598411af8 button');\n",
              "      quickchartButtonEl.style.display =\n",
              "        google.colab.kernel.accessAllowed ? 'block' : 'none';\n",
              "    })();\n",
              "  </script>\n",
              "</div>\n",
              "\n",
              "    </div>\n",
              "  </div>\n"
            ],
            "application/vnd.google.colaboratory.intrinsic+json": {
              "type": "dataframe",
              "variable_name": "users",
              "summary": "{\n  \"name\": \"users\",\n  \"rows\": 738,\n  \"fields\": [\n    {\n      \"column\": \"login\",\n      \"properties\": {\n        \"dtype\": \"string\",\n        \"num_unique_values\": 738,\n        \"samples\": [\n          \"xiandanin\",\n          \"goddyZhao\",\n          \"langgithub\"\n        ],\n        \"semantic_type\": \"\",\n        \"description\": \"\"\n      }\n    },\n    {\n      \"column\": \"name\",\n      \"properties\": {\n        \"dtype\": \"string\",\n        \"num_unique_values\": 700,\n        \"samples\": [\n          \"Tong He\",\n          \"Kaijun Chen\",\n          \"Rhilip\"\n        ],\n        \"semantic_type\": \"\",\n        \"description\": \"\"\n      }\n    },\n    {\n      \"column\": \"company\",\n      \"properties\": {\n        \"dtype\": \"category\",\n        \"num_unique_values\": 312,\n        \"samples\": [\n          \"SOOCHOW UNIVERSITY\",\n          \"NEONDATABASE\",\n          \"BOOHEE\"\n        ],\n        \"semantic_type\": \"\",\n        \"description\": \"\"\n      }\n    },\n    {\n      \"column\": \"location\",\n      \"properties\": {\n        \"dtype\": \"category\",\n        \"num_unique_values\": 87,\n        \"samples\": [\n          \"China-Shanghai\",\n          \"Shanghai\",\n          \"\\u4e0a\\u6d77(ShangHai,China)\"\n        ],\n        \"semantic_type\": \"\",\n        \"description\": \"\"\n      }\n    },\n    {\n      \"column\": \"email\",\n      \"properties\": {\n        \"dtype\": \"string\",\n        \"num_unique_values\": 512,\n        \"samples\": [\n          \"mengfj@gmail.com\",\n          \"qiuzhongleiabc@126.com\",\n          \"245915794@qq.com\"\n        ],\n        \"semantic_type\": \"\",\n        \"description\": \"\"\n      }\n    },\n    {\n      \"column\": \"hireable\",\n      \"properties\": {\n        \"dtype\": \"category\",\n        \"num_unique_values\": 2,\n        \"samples\": [\n          \"true\",\n          \"\"\n        ],\n        \"semantic_type\": \"\",\n        \"description\": \"\"\n      }\n    },\n    {\n      \"column\": \"bio\",\n      \"properties\": {\n        \"dtype\": \"string\",\n        \"num_unique_values\": 527,\n        \"samples\": [\n          \"I have bad ideas\",\n          \"front-end\"\n        ],\n        \"semantic_type\": \"\",\n        \"description\": \"\"\n      }\n    },\n    {\n      \"column\": \"public_repos\",\n      \"properties\": {\n        \"dtype\": \"number\",\n        \"std\": 424,\n        \"min\": 0,\n        \"max\": 11052,\n        \"num_unique_values\": 210,\n        \"samples\": [\n          64,\n          115\n        ],\n        \"semantic_type\": \"\",\n        \"description\": \"\"\n      }\n    },\n    {\n      \"column\": \"followers\",\n      \"properties\": {\n        \"dtype\": \"number\",\n        \"std\": 4517,\n        \"min\": 201,\n        \"max\": 80545,\n        \"num_unique_values\": 456,\n        \"samples\": [\n          291,\n          3353\n        ],\n        \"semantic_type\": \"\",\n        \"description\": \"\"\n      }\n    },\n    {\n      \"column\": \"following\",\n      \"properties\": {\n        \"dtype\": \"number\",\n        \"std\": 1019,\n        \"min\": 0,\n        \"max\": 19632,\n        \"num_unique_values\": 263,\n        \"samples\": [\n          2603,\n          79\n        ],\n        \"semantic_type\": \"\",\n        \"description\": \"\"\n      }\n    },\n    {\n      \"column\": \"created_at\",\n      \"properties\": {\n        \"dtype\": \"object\",\n        \"num_unique_values\": 738,\n        \"samples\": [\n          \"2016-03-02T08:40:53Z\",\n          \"2009-12-09T12:28:53Z\"\n        ],\n        \"semantic_type\": \"\",\n        \"description\": \"\"\n      }\n    }\n  ]\n}"
            }
          },
          "metadata": {},
          "execution_count": 19
        }
      ]
    },
    {
      "cell_type": "code",
      "source": [
        "repos.head()"
      ],
      "metadata": {
        "colab": {
          "base_uri": "https://localhost:8080/",
          "height": 347
        },
        "id": "4B9RAzkKNqoM",
        "outputId": "a46d6578-41da-4d83-debf-7f951a605e05"
      },
      "execution_count": null,
      "outputs": [
        {
          "output_type": "execute_result",
          "data": {
            "text/plain": [
              "         login                    full_name            created_at  \\\n",
              "0  peng-zhihui            peng-zhihui/A-Eye  2019-10-02T15:54:46Z   \n",
              "1  peng-zhihui            peng-zhihui/AimRT  2024-09-23T10:32:35Z   \n",
              "2  peng-zhihui    peng-zhihui/arduino-boost  2017-05-17T06:28:34Z   \n",
              "3  peng-zhihui  peng-zhihui/BilibiliLottery  2020-03-28T14:40:45Z   \n",
              "4  peng-zhihui   peng-zhihui/BluetoothTouch  2020-11-26T14:51:25Z   \n",
              "\n",
              "   stargazers_count  watchers_count language  has_projects  has_wiki  \\\n",
              "0              1180            1180        C          True      True   \n",
              "1                69              69      NaN          True      True   \n",
              "2                54              54      C++          True      True   \n",
              "3               222             222     HTML          True      True   \n",
              "4               489             489     Java          True      True   \n",
              "\n",
              "                      license_name  \n",
              "0                              NaN  \n",
              "1                            Other  \n",
              "2       Boost Software License 1.0  \n",
              "3                              NaN  \n",
              "4  GNU General Public License v3.0  "
            ],
            "text/html": [
              "\n",
              "  <div id=\"df-8364af28-a219-4b54-8bc9-f540a656376a\" class=\"colab-df-container\">\n",
              "    <div>\n",
              "<style scoped>\n",
              "    .dataframe tbody tr th:only-of-type {\n",
              "        vertical-align: middle;\n",
              "    }\n",
              "\n",
              "    .dataframe tbody tr th {\n",
              "        vertical-align: top;\n",
              "    }\n",
              "\n",
              "    .dataframe thead th {\n",
              "        text-align: right;\n",
              "    }\n",
              "</style>\n",
              "<table border=\"1\" class=\"dataframe\">\n",
              "  <thead>\n",
              "    <tr style=\"text-align: right;\">\n",
              "      <th></th>\n",
              "      <th>login</th>\n",
              "      <th>full_name</th>\n",
              "      <th>created_at</th>\n",
              "      <th>stargazers_count</th>\n",
              "      <th>watchers_count</th>\n",
              "      <th>language</th>\n",
              "      <th>has_projects</th>\n",
              "      <th>has_wiki</th>\n",
              "      <th>license_name</th>\n",
              "    </tr>\n",
              "  </thead>\n",
              "  <tbody>\n",
              "    <tr>\n",
              "      <th>0</th>\n",
              "      <td>peng-zhihui</td>\n",
              "      <td>peng-zhihui/A-Eye</td>\n",
              "      <td>2019-10-02T15:54:46Z</td>\n",
              "      <td>1180</td>\n",
              "      <td>1180</td>\n",
              "      <td>C</td>\n",
              "      <td>True</td>\n",
              "      <td>True</td>\n",
              "      <td>NaN</td>\n",
              "    </tr>\n",
              "    <tr>\n",
              "      <th>1</th>\n",
              "      <td>peng-zhihui</td>\n",
              "      <td>peng-zhihui/AimRT</td>\n",
              "      <td>2024-09-23T10:32:35Z</td>\n",
              "      <td>69</td>\n",
              "      <td>69</td>\n",
              "      <td>NaN</td>\n",
              "      <td>True</td>\n",
              "      <td>True</td>\n",
              "      <td>Other</td>\n",
              "    </tr>\n",
              "    <tr>\n",
              "      <th>2</th>\n",
              "      <td>peng-zhihui</td>\n",
              "      <td>peng-zhihui/arduino-boost</td>\n",
              "      <td>2017-05-17T06:28:34Z</td>\n",
              "      <td>54</td>\n",
              "      <td>54</td>\n",
              "      <td>C++</td>\n",
              "      <td>True</td>\n",
              "      <td>True</td>\n",
              "      <td>Boost Software License 1.0</td>\n",
              "    </tr>\n",
              "    <tr>\n",
              "      <th>3</th>\n",
              "      <td>peng-zhihui</td>\n",
              "      <td>peng-zhihui/BilibiliLottery</td>\n",
              "      <td>2020-03-28T14:40:45Z</td>\n",
              "      <td>222</td>\n",
              "      <td>222</td>\n",
              "      <td>HTML</td>\n",
              "      <td>True</td>\n",
              "      <td>True</td>\n",
              "      <td>NaN</td>\n",
              "    </tr>\n",
              "    <tr>\n",
              "      <th>4</th>\n",
              "      <td>peng-zhihui</td>\n",
              "      <td>peng-zhihui/BluetoothTouch</td>\n",
              "      <td>2020-11-26T14:51:25Z</td>\n",
              "      <td>489</td>\n",
              "      <td>489</td>\n",
              "      <td>Java</td>\n",
              "      <td>True</td>\n",
              "      <td>True</td>\n",
              "      <td>GNU General Public License v3.0</td>\n",
              "    </tr>\n",
              "  </tbody>\n",
              "</table>\n",
              "</div>\n",
              "    <div class=\"colab-df-buttons\">\n",
              "\n",
              "  <div class=\"colab-df-container\">\n",
              "    <button class=\"colab-df-convert\" onclick=\"convertToInteractive('df-8364af28-a219-4b54-8bc9-f540a656376a')\"\n",
              "            title=\"Convert this dataframe to an interactive table.\"\n",
              "            style=\"display:none;\">\n",
              "\n",
              "  <svg xmlns=\"http://www.w3.org/2000/svg\" height=\"24px\" viewBox=\"0 -960 960 960\">\n",
              "    <path d=\"M120-120v-720h720v720H120Zm60-500h600v-160H180v160Zm220 220h160v-160H400v160Zm0 220h160v-160H400v160ZM180-400h160v-160H180v160Zm440 0h160v-160H620v160ZM180-180h160v-160H180v160Zm440 0h160v-160H620v160Z\"/>\n",
              "  </svg>\n",
              "    </button>\n",
              "\n",
              "  <style>\n",
              "    .colab-df-container {\n",
              "      display:flex;\n",
              "      gap: 12px;\n",
              "    }\n",
              "\n",
              "    .colab-df-convert {\n",
              "      background-color: #E8F0FE;\n",
              "      border: none;\n",
              "      border-radius: 50%;\n",
              "      cursor: pointer;\n",
              "      display: none;\n",
              "      fill: #1967D2;\n",
              "      height: 32px;\n",
              "      padding: 0 0 0 0;\n",
              "      width: 32px;\n",
              "    }\n",
              "\n",
              "    .colab-df-convert:hover {\n",
              "      background-color: #E2EBFA;\n",
              "      box-shadow: 0px 1px 2px rgba(60, 64, 67, 0.3), 0px 1px 3px 1px rgba(60, 64, 67, 0.15);\n",
              "      fill: #174EA6;\n",
              "    }\n",
              "\n",
              "    .colab-df-buttons div {\n",
              "      margin-bottom: 4px;\n",
              "    }\n",
              "\n",
              "    [theme=dark] .colab-df-convert {\n",
              "      background-color: #3B4455;\n",
              "      fill: #D2E3FC;\n",
              "    }\n",
              "\n",
              "    [theme=dark] .colab-df-convert:hover {\n",
              "      background-color: #434B5C;\n",
              "      box-shadow: 0px 1px 3px 1px rgba(0, 0, 0, 0.15);\n",
              "      filter: drop-shadow(0px 1px 2px rgba(0, 0, 0, 0.3));\n",
              "      fill: #FFFFFF;\n",
              "    }\n",
              "  </style>\n",
              "\n",
              "    <script>\n",
              "      const buttonEl =\n",
              "        document.querySelector('#df-8364af28-a219-4b54-8bc9-f540a656376a button.colab-df-convert');\n",
              "      buttonEl.style.display =\n",
              "        google.colab.kernel.accessAllowed ? 'block' : 'none';\n",
              "\n",
              "      async function convertToInteractive(key) {\n",
              "        const element = document.querySelector('#df-8364af28-a219-4b54-8bc9-f540a656376a');\n",
              "        const dataTable =\n",
              "          await google.colab.kernel.invokeFunction('convertToInteractive',\n",
              "                                                    [key], {});\n",
              "        if (!dataTable) return;\n",
              "\n",
              "        const docLinkHtml = 'Like what you see? Visit the ' +\n",
              "          '<a target=\"_blank\" href=https://colab.research.google.com/notebooks/data_table.ipynb>data table notebook</a>'\n",
              "          + ' to learn more about interactive tables.';\n",
              "        element.innerHTML = '';\n",
              "        dataTable['output_type'] = 'display_data';\n",
              "        await google.colab.output.renderOutput(dataTable, element);\n",
              "        const docLink = document.createElement('div');\n",
              "        docLink.innerHTML = docLinkHtml;\n",
              "        element.appendChild(docLink);\n",
              "      }\n",
              "    </script>\n",
              "  </div>\n",
              "\n",
              "\n",
              "<div id=\"df-504fcdc0-cb2e-4a90-b47e-317d4db4979a\">\n",
              "  <button class=\"colab-df-quickchart\" onclick=\"quickchart('df-504fcdc0-cb2e-4a90-b47e-317d4db4979a')\"\n",
              "            title=\"Suggest charts\"\n",
              "            style=\"display:none;\">\n",
              "\n",
              "<svg xmlns=\"http://www.w3.org/2000/svg\" height=\"24px\"viewBox=\"0 0 24 24\"\n",
              "     width=\"24px\">\n",
              "    <g>\n",
              "        <path d=\"M19 3H5c-1.1 0-2 .9-2 2v14c0 1.1.9 2 2 2h14c1.1 0 2-.9 2-2V5c0-1.1-.9-2-2-2zM9 17H7v-7h2v7zm4 0h-2V7h2v10zm4 0h-2v-4h2v4z\"/>\n",
              "    </g>\n",
              "</svg>\n",
              "  </button>\n",
              "\n",
              "<style>\n",
              "  .colab-df-quickchart {\n",
              "      --bg-color: #E8F0FE;\n",
              "      --fill-color: #1967D2;\n",
              "      --hover-bg-color: #E2EBFA;\n",
              "      --hover-fill-color: #174EA6;\n",
              "      --disabled-fill-color: #AAA;\n",
              "      --disabled-bg-color: #DDD;\n",
              "  }\n",
              "\n",
              "  [theme=dark] .colab-df-quickchart {\n",
              "      --bg-color: #3B4455;\n",
              "      --fill-color: #D2E3FC;\n",
              "      --hover-bg-color: #434B5C;\n",
              "      --hover-fill-color: #FFFFFF;\n",
              "      --disabled-bg-color: #3B4455;\n",
              "      --disabled-fill-color: #666;\n",
              "  }\n",
              "\n",
              "  .colab-df-quickchart {\n",
              "    background-color: var(--bg-color);\n",
              "    border: none;\n",
              "    border-radius: 50%;\n",
              "    cursor: pointer;\n",
              "    display: none;\n",
              "    fill: var(--fill-color);\n",
              "    height: 32px;\n",
              "    padding: 0;\n",
              "    width: 32px;\n",
              "  }\n",
              "\n",
              "  .colab-df-quickchart:hover {\n",
              "    background-color: var(--hover-bg-color);\n",
              "    box-shadow: 0 1px 2px rgba(60, 64, 67, 0.3), 0 1px 3px 1px rgba(60, 64, 67, 0.15);\n",
              "    fill: var(--button-hover-fill-color);\n",
              "  }\n",
              "\n",
              "  .colab-df-quickchart-complete:disabled,\n",
              "  .colab-df-quickchart-complete:disabled:hover {\n",
              "    background-color: var(--disabled-bg-color);\n",
              "    fill: var(--disabled-fill-color);\n",
              "    box-shadow: none;\n",
              "  }\n",
              "\n",
              "  .colab-df-spinner {\n",
              "    border: 2px solid var(--fill-color);\n",
              "    border-color: transparent;\n",
              "    border-bottom-color: var(--fill-color);\n",
              "    animation:\n",
              "      spin 1s steps(1) infinite;\n",
              "  }\n",
              "\n",
              "  @keyframes spin {\n",
              "    0% {\n",
              "      border-color: transparent;\n",
              "      border-bottom-color: var(--fill-color);\n",
              "      border-left-color: var(--fill-color);\n",
              "    }\n",
              "    20% {\n",
              "      border-color: transparent;\n",
              "      border-left-color: var(--fill-color);\n",
              "      border-top-color: var(--fill-color);\n",
              "    }\n",
              "    30% {\n",
              "      border-color: transparent;\n",
              "      border-left-color: var(--fill-color);\n",
              "      border-top-color: var(--fill-color);\n",
              "      border-right-color: var(--fill-color);\n",
              "    }\n",
              "    40% {\n",
              "      border-color: transparent;\n",
              "      border-right-color: var(--fill-color);\n",
              "      border-top-color: var(--fill-color);\n",
              "    }\n",
              "    60% {\n",
              "      border-color: transparent;\n",
              "      border-right-color: var(--fill-color);\n",
              "    }\n",
              "    80% {\n",
              "      border-color: transparent;\n",
              "      border-right-color: var(--fill-color);\n",
              "      border-bottom-color: var(--fill-color);\n",
              "    }\n",
              "    90% {\n",
              "      border-color: transparent;\n",
              "      border-bottom-color: var(--fill-color);\n",
              "    }\n",
              "  }\n",
              "</style>\n",
              "\n",
              "  <script>\n",
              "    async function quickchart(key) {\n",
              "      const quickchartButtonEl =\n",
              "        document.querySelector('#' + key + ' button');\n",
              "      quickchartButtonEl.disabled = true;  // To prevent multiple clicks.\n",
              "      quickchartButtonEl.classList.add('colab-df-spinner');\n",
              "      try {\n",
              "        const charts = await google.colab.kernel.invokeFunction(\n",
              "            'suggestCharts', [key], {});\n",
              "      } catch (error) {\n",
              "        console.error('Error during call to suggestCharts:', error);\n",
              "      }\n",
              "      quickchartButtonEl.classList.remove('colab-df-spinner');\n",
              "      quickchartButtonEl.classList.add('colab-df-quickchart-complete');\n",
              "    }\n",
              "    (() => {\n",
              "      let quickchartButtonEl =\n",
              "        document.querySelector('#df-504fcdc0-cb2e-4a90-b47e-317d4db4979a button');\n",
              "      quickchartButtonEl.style.display =\n",
              "        google.colab.kernel.accessAllowed ? 'block' : 'none';\n",
              "    })();\n",
              "  </script>\n",
              "</div>\n",
              "\n",
              "    </div>\n",
              "  </div>\n"
            ],
            "application/vnd.google.colaboratory.intrinsic+json": {
              "type": "dataframe",
              "variable_name": "repos",
              "summary": "{\n  \"name\": \"repos\",\n  \"rows\": 58528,\n  \"fields\": [\n    {\n      \"column\": \"login\",\n      \"properties\": {\n        \"dtype\": \"category\",\n        \"num_unique_values\": 737,\n        \"samples\": [\n          \"sec-an\",\n          \"xpqiu\",\n          \"jameslz\"\n        ],\n        \"semantic_type\": \"\",\n        \"description\": \"\"\n      }\n    },\n    {\n      \"column\": \"full_name\",\n      \"properties\": {\n        \"dtype\": \"string\",\n        \"num_unique_values\": 58528,\n        \"samples\": [\n          \"cofyc/sig-storage-lib-external-provisioner\",\n          \"langgithub/aiohttp\",\n          \"erning/rsca\"\n        ],\n        \"semantic_type\": \"\",\n        \"description\": \"\"\n      }\n    },\n    {\n      \"column\": \"created_at\",\n      \"properties\": {\n        \"dtype\": \"object\",\n        \"num_unique_values\": 58519,\n        \"samples\": [\n          \"2017-10-23T10:08:28Z\",\n          \"2016-12-22T15:57:53Z\",\n          \"2020-12-07T08:49:25Z\"\n        ],\n        \"semantic_type\": \"\",\n        \"description\": \"\"\n      }\n    },\n    {\n      \"column\": \"stargazers_count\",\n      \"properties\": {\n        \"dtype\": \"number\",\n        \"std\": 952,\n        \"min\": 0,\n        \"max\": 97532,\n        \"num_unique_values\": 1242,\n        \"samples\": [\n          869,\n          881,\n          176\n        ],\n        \"semantic_type\": \"\",\n        \"description\": \"\"\n      }\n    },\n    {\n      \"column\": \"watchers_count\",\n      \"properties\": {\n        \"dtype\": \"number\",\n        \"std\": 952,\n        \"min\": 0,\n        \"max\": 97532,\n        \"num_unique_values\": 1242,\n        \"samples\": [\n          869,\n          881,\n          176\n        ],\n        \"semantic_type\": \"\",\n        \"description\": \"\"\n      }\n    },\n    {\n      \"column\": \"language\",\n      \"properties\": {\n        \"dtype\": \"category\",\n        \"num_unique_values\": 186,\n        \"samples\": [\n          \"Starlark\",\n          \"Groff\",\n          \"Delphi\"\n        ],\n        \"semantic_type\": \"\",\n        \"description\": \"\"\n      }\n    },\n    {\n      \"column\": \"has_projects\",\n      \"properties\": {\n        \"dtype\": \"boolean\",\n        \"num_unique_values\": 2,\n        \"samples\": [\n          false,\n          true\n        ],\n        \"semantic_type\": \"\",\n        \"description\": \"\"\n      }\n    },\n    {\n      \"column\": \"has_wiki\",\n      \"properties\": {\n        \"dtype\": \"boolean\",\n        \"num_unique_values\": 2,\n        \"samples\": [\n          false,\n          true\n        ],\n        \"semantic_type\": \"\",\n        \"description\": \"\"\n      }\n    },\n    {\n      \"column\": \"license_name\",\n      \"properties\": {\n        \"dtype\": \"category\",\n        \"num_unique_values\": 36,\n        \"samples\": [\n          \"Universal Permissive License v1.0\",\n          \"GNU Lesser General Public License v2.1\"\n        ],\n        \"semantic_type\": \"\",\n        \"description\": \"\"\n      }\n    }\n  ]\n}"
            }
          },
          "metadata": {},
          "execution_count": 20
        }
      ]
    },
    {
      "cell_type": "code",
      "source": [
        "repos['has_projects'] = repos['has_projects'].map({True: 'true', False: 'false'})\n",
        "repos['has_wiki'] = repos['has_wiki'].map({True: 'true', False: 'false'})"
      ],
      "metadata": {
        "id": "IYwVvP9hNt6N"
      },
      "execution_count": null,
      "outputs": []
    },
    {
      "cell_type": "code",
      "source": [
        "repos.fillna('', inplace=True)"
      ],
      "metadata": {
        "id": "L54vW4pNN3IY"
      },
      "execution_count": null,
      "outputs": []
    },
    {
      "cell_type": "markdown",
      "source": [
        "## Q1"
      ],
      "metadata": {
        "id": "ueIQIgyDgjqz"
      }
    },
    {
      "cell_type": "code",
      "source": [
        "# Get the top 5 users by followers\n",
        "top_5_users = users.sort_values(by='followers', ascending=False).head(5)\n",
        "print(top_5_users[['login', 'followers']])\n"
      ],
      "metadata": {
        "colab": {
          "base_uri": "https://localhost:8080/"
        },
        "id": "iyF68DzDglhp",
        "outputId": "99506a42-8cdc-4768-9a76-e466e9b67283"
      },
      "execution_count": null,
      "outputs": [
        {
          "output_type": "stream",
          "name": "stdout",
          "text": [
            "         login  followers\n",
            "0  peng-zhihui      80545\n",
            "1       ruanyf      79285\n",
            "2       phodal      20050\n",
            "3       liyupi      17339\n",
            "4   stormzhang      15879\n"
          ]
        }
      ]
    },
    {
      "cell_type": "markdown",
      "source": [
        "## Q2"
      ],
      "metadata": {
        "id": "Ks6jGk23gpEU"
      }
    },
    {
      "cell_type": "code",
      "source": [
        "# Convert 'created_at' column to datetime format\n",
        "users['created_at'] = pd.to_datetime(users['created_at'])\n",
        "\n",
        "# Sort users by 'created_at' in ascending order and select the top 5\n",
        "earliest_users = users.sort_values(by='created_at', ascending=True).head(5)\n",
        "\n",
        "# Get the login names of these users\n",
        "earliest_users_logins = earliest_users['login'].tolist()\n",
        "\n",
        "# Display the result as a comma-separated string\n",
        "print(','.join(earliest_users_logins))\n"
      ],
      "metadata": {
        "colab": {
          "base_uri": "https://localhost:8080/"
        },
        "id": "hKm-XBdLgqYe",
        "outputId": "2c2e579e-f2b7-42be-8e6c-e0c578a6e6d2"
      },
      "execution_count": null,
      "outputs": [
        {
          "output_type": "stream",
          "name": "stdout",
          "text": [
            "osteele,mrluanma,ShiningRay,rainux,why404\n"
          ]
        }
      ]
    },
    {
      "cell_type": "markdown",
      "source": [
        "## 3"
      ],
      "metadata": {
        "id": "FbEQiee1g5Qf"
      }
    },
    {
      "cell_type": "code",
      "source": [
        "# Filter out rows where 'license_name' is missing or empty\n",
        "repos_with_license = repos[repos['license_name'].notna() & (repos['license_name'] != '')]\n",
        "\n",
        "# Count the occurrences of each license and get the top 3\n",
        "top_licenses = repos_with_license['license_name'].value_counts().head(3)\n",
        "\n",
        "# Get the license names as a list\n",
        "top_licenses_list = top_licenses.index.tolist()\n",
        "\n",
        "# Display the result as a comma-separated string\n",
        "print(','.join(top_licenses_list))\n"
      ],
      "metadata": {
        "colab": {
          "base_uri": "https://localhost:8080/"
        },
        "id": "RtWL7nXsg6OJ",
        "outputId": "1facfd3b-3a7a-46d9-fd7c-9fe51ff30027"
      },
      "execution_count": null,
      "outputs": [
        {
          "output_type": "stream",
          "name": "stdout",
          "text": [
            "MIT License,Apache License 2.0,Other\n"
          ]
        }
      ]
    },
    {
      "cell_type": "markdown",
      "source": [
        "## 4"
      ],
      "metadata": {
        "id": "DLrXgWZ9hGHv"
      }
    },
    {
      "cell_type": "code",
      "source": [
        "\n",
        "valid_companies = users[users['company'] != '']\n",
        "\n",
        "# Group by 'company' and count the occurrences, then find the most common company\n",
        "most_common_company = valid_companies['company'].value_counts().idxmax()\n",
        "\n",
        "# Display the result\n",
        "print(most_common_company)"
      ],
      "metadata": {
        "colab": {
          "base_uri": "https://localhost:8080/"
        },
        "id": "6fi5HWZihG46",
        "outputId": "b914b9c3-9b17-45aa-e9c0-4e4ccbee3e71"
      },
      "execution_count": null,
      "outputs": [
        {
          "output_type": "stream",
          "name": "stdout",
          "text": [
            "BYTEDANCE\n"
          ]
        }
      ]
    },
    {
      "cell_type": "markdown",
      "source": [
        "## 5"
      ],
      "metadata": {
        "id": "ddtM8uF7hSrC"
      }
    },
    {
      "cell_type": "code",
      "source": [
        "# Exclude rows where 'language' is missing or empty\n",
        "valid_languages = repos[repos['language'].notna() & (repos['language'] != '')]\n",
        "\n",
        "# Count the occurrences of each language and find the most common one\n",
        "most_popular_language = valid_languages['language'].value_counts().idxmax()\n",
        "\n",
        "# Display the result\n",
        "print(most_popular_language)\n"
      ],
      "metadata": {
        "colab": {
          "base_uri": "https://localhost:8080/"
        },
        "id": "C6v9jPkXhTel",
        "outputId": "b78c8843-ef89-4920-ae78-1bcf2908f2fe"
      },
      "execution_count": null,
      "outputs": [
        {
          "output_type": "stream",
          "name": "stdout",
          "text": [
            "JavaScript\n"
          ]
        }
      ]
    },
    {
      "cell_type": "markdown",
      "source": [
        "## 6"
      ],
      "metadata": {
        "id": "-c2LqA1lhaoW"
      }
    },
    {
      "cell_type": "code",
      "source": [
        "users['created_at'] = pd.to_datetime(users['created_at'])\n",
        "\n",
        "users_after_2020 = users[users['created_at'] > '2020-01-01']\n",
        "\n",
        "# Filter repositories to keep only those from the users who joined after 2020\n",
        "after_2020_repos = repos[repos['login'].isin(users_after_2020['login'])]\n",
        "\n",
        "# Count occurrences of each programming language\n",
        "language_counts = after_2020_repos['language'].value_counts()\n",
        "\n",
        "# Get the second most popular language\n",
        "second_most_popular_language = language_counts.index[1]  # Index 1 is the second most popular\n",
        "\n",
        "print(second_most_popular_language)\n"
      ],
      "metadata": {
        "colab": {
          "base_uri": "https://localhost:8080/"
        },
        "id": "J28eS7dshbPM",
        "outputId": "abc9748f-a917-47b1-baf5-b9671afd7be9"
      },
      "execution_count": null,
      "outputs": [
        {
          "output_type": "stream",
          "name": "stdout",
          "text": [
            "Go\n"
          ]
        }
      ]
    },
    {
      "cell_type": "markdown",
      "source": [
        "## 7"
      ],
      "metadata": {
        "id": "L4R32Q2uiY07"
      }
    },
    {
      "cell_type": "code",
      "source": [
        "valid_repos = repos[repos['language'].notna() & (repos['language'] != '') & repos['stargazers_count'].notna()]\n",
        "\n",
        "# Step 2: Group by 'language' and calculate the average number of stars per repository\n",
        "average_stars_per_language = valid_repos.groupby('language')['stargazers_count'].mean()\n",
        "\n",
        "# Step 3: Identify the language with the highest average number of stars\n",
        "highest_average_language = average_stars_per_language.idxmax()\n",
        "\n",
        "# Display the result\n",
        "print(f\"Language: {highest_average_language}\")\n"
      ],
      "metadata": {
        "colab": {
          "base_uri": "https://localhost:8080/"
        },
        "id": "f2GurkTWiZ5I",
        "outputId": "9329221a-4fa9-406d-b526-ba6edbfde17d"
      },
      "execution_count": null,
      "outputs": [
        {
          "output_type": "stream",
          "name": "stdout",
          "text": [
            "Language: Rich Text Format\n"
          ]
        }
      ]
    },
    {
      "cell_type": "markdown",
      "source": [
        "## 8"
      ],
      "metadata": {
        "id": "CsiS1LDGiqay"
      }
    },
    {
      "cell_type": "code",
      "source": [
        "users['leader_strength'] = users['followers'] / (1 + users['following'])\n",
        "\n",
        "# Step 2: Sort users by leader_strength in descending order\n",
        "top_leaders = users.sort_values('leader_strength', ascending=False).head(5)\n",
        "\n",
        "# Step 3: Get the login of the top 5 users\n",
        "top_leader_logins = top_leaders['login'].tolist()\n",
        "\n",
        "# Display the result as a comma-separated string\n",
        "print(','.join(top_leader_logins))"
      ],
      "metadata": {
        "colab": {
          "base_uri": "https://localhost:8080/"
        },
        "id": "a-1KoV_QirOf",
        "outputId": "2858cf88-3195-4961-fe1c-d2926b984a76"
      },
      "execution_count": null,
      "outputs": [
        {
          "output_type": "stream",
          "name": "stdout",
          "text": [
            "ruanyf,peng-zhihui,espressif,vnpy,bilibili\n"
          ]
        }
      ]
    },
    {
      "cell_type": "markdown",
      "source": [
        "## 9"
      ],
      "metadata": {
        "id": "5sE94Zkki3nP"
      }
    },
    {
      "cell_type": "code",
      "source": [
        "correlation = users['followers'].corr(users['public_repos'])\n",
        "\n",
        "# Print the correlation to 3 decimal places\n",
        "print(f\"{correlation:.3f}\")"
      ],
      "metadata": {
        "colab": {
          "base_uri": "https://localhost:8080/"
        },
        "id": "nYLVulUBi4hp",
        "outputId": "8e064b9a-4899-4908-b090-39a942e8240b"
      },
      "execution_count": null,
      "outputs": [
        {
          "output_type": "stream",
          "name": "stdout",
          "text": [
            "-0.005\n"
          ]
        }
      ]
    },
    {
      "cell_type": "markdown",
      "source": [
        "## 10"
      ],
      "metadata": {
        "id": "L1VsbG7vi_x8"
      }
    },
    {
      "cell_type": "code",
      "source": [
        "import statsmodels.api as sm\n",
        "\n",
        "# Define independent variable (public_repos) and dependent variable (followers)\n",
        "X = users['public_repos']\n",
        "y = users['followers']\n",
        "\n",
        "# Add a constant to the independent variable for the intercept\n",
        "X = sm.add_constant(X)\n",
        "\n",
        "# Perform linear regression\n",
        "model = sm.OLS(y, X).fit()\n",
        "\n",
        "# Get the slope (coefficient of public_repos)\n",
        "slope = model.params['public_repos']\n",
        "\n",
        "# Print the slope to 3 decimal places\n",
        "print(f\"{slope:.3f}\")"
      ],
      "metadata": {
        "colab": {
          "base_uri": "https://localhost:8080/"
        },
        "id": "6it6-lenjAk8",
        "outputId": "6e830a47-c229-4b3d-8fd5-8c468fe9550a"
      },
      "execution_count": null,
      "outputs": [
        {
          "output_type": "stream",
          "name": "stdout",
          "text": [
            "-0.056\n"
          ]
        }
      ]
    },
    {
      "cell_type": "markdown",
      "source": [
        "## 11"
      ],
      "metadata": {
        "id": "-2YpvrRnjHO0"
      }
    },
    {
      "cell_type": "code",
      "source": [
        "# Convert 'has_projects' and 'has_wiki' columns to boolean\n",
        "repos['has_projects'] = repos['has_projects']\n",
        "repos['has_wiki'] = repos['has_wiki']\n",
        "\n",
        "# Calculate the correlation between has_projects and has_wiki\n",
        "correlation = repos['has_projects'].corr(repos['has_wiki'])\n",
        "\n",
        "# Print the correlation to 3 decimal places\n",
        "print(f\"{correlation:.3f}\")"
      ],
      "metadata": {
        "colab": {
          "base_uri": "https://localhost:8080/"
        },
        "id": "865Z-qizjIBl",
        "outputId": "941c0eee-a538-4dcb-862a-e55cf08e8345"
      },
      "execution_count": null,
      "outputs": [
        {
          "output_type": "stream",
          "name": "stdout",
          "text": [
            "0.302\n"
          ]
        }
      ]
    },
    {
      "cell_type": "markdown",
      "source": [
        "## 12"
      ],
      "metadata": {
        "id": "F5__RkoBjd_x"
      }
    },
    {
      "cell_type": "code",
      "source": [
        "hireable_with_email = users[users['hireable'] == True]['email'].notna().mean()\n",
        "\n",
        "# Calculate the fraction of users with email when hireable is False\n",
        "not_hireable_with_email = users[users['hireable'] == False]['email'].notna().mean()\n",
        "\n",
        "# Calculate the difference\n",
        "difference = hireable_with_email - not_hireable_with_email\n",
        "\n",
        "# Print the result to 3 decimal places\n",
        "print(f\"{difference:.3f}\")\n"
      ],
      "metadata": {
        "colab": {
          "base_uri": "https://localhost:8080/"
        },
        "id": "wehzzurljeyl",
        "outputId": "7729af98-467b-4361-af43-9df9196a07f9"
      },
      "execution_count": null,
      "outputs": [
        {
          "output_type": "stream",
          "name": "stdout",
          "text": [
            "nan\n"
          ]
        }
      ]
    },
    {
      "cell_type": "markdown",
      "source": [
        "##13"
      ],
      "metadata": {
        "id": "GszrQ_JEjju3"
      }
    },
    {
      "cell_type": "code",
      "source": [
        "import pandas as pd\n",
        "from sklearn.linear_model import LinearRegression\n",
        "\n",
        "# Load the users data\n",
        "users_df = pd.read_csv('users.csv')\n",
        "\n",
        "# Calculate the length of bios\n",
        "users_df['bio_length'] = users_df['bio'].dropna().apply(len)\n",
        "\n",
        "# Filter out users without bios\n",
        "filtered_df = users_df[users_df['bio_length'].notna()]\n",
        "\n",
        "# Prepare the data for regression\n",
        "X = filtered_df[['bio_length']]\n",
        "y = filtered_df['followers']\n",
        "\n",
        "# Perform linear regression\n",
        "model = LinearRegression()\n",
        "model.fit(X, y)\n",
        "\n",
        "# Get the regression slope\n",
        "regression_slope = model.coef_[0]\n",
        "\n",
        "# Output the result\n",
        "print(f\"Regression slope of followers on bio length: {regression_slope:.3f}\")"
      ],
      "metadata": {
        "colab": {
          "base_uri": "https://localhost:8080/"
        },
        "id": "3J5toCqTjlne",
        "outputId": "41b39bcb-452c-4093-9cc6-5f0554640441"
      },
      "execution_count": null,
      "outputs": [
        {
          "output_type": "stream",
          "name": "stdout",
          "text": [
            "Regression slope of followers on bio length: -5.417\n"
          ]
        }
      ]
    },
    {
      "cell_type": "markdown",
      "source": [
        "## 14"
      ],
      "metadata": {
        "id": "BGPQK9g6jwEw"
      }
    },
    {
      "cell_type": "code",
      "source": [
        "repos['created_at'] = pd.to_datetime(repos['created_at'])\n",
        "\n",
        "repos['is_weekend'] = repos['created_at'].dt.weekday >= 5\n",
        "\n",
        "weekend_repos = repos[repos['is_weekend']]\n",
        "\n",
        "# Get the top 5 users by login\n",
        "top = weekend_repos['login'].value_counts().head(5).index.tolist()\n",
        "\n",
        "print(','.join(top))\n"
      ],
      "metadata": {
        "colab": {
          "base_uri": "https://localhost:8080/"
        },
        "id": "VWAKfk0mjxdT",
        "outputId": "da9b7d25-3d7f-4ee8-d031-0e0a9bf9eca2"
      },
      "execution_count": null,
      "outputs": [
        {
          "output_type": "stream",
          "name": "stdout",
          "text": [
            "losfair,j5s,Yuan-ManX,gonnavis,yuzd\n"
          ]
        }
      ]
    },
    {
      "cell_type": "markdown",
      "source": [
        "##15"
      ],
      "metadata": {
        "id": "xQ9Kw7y0kBAP"
      }
    },
    {
      "cell_type": "code",
      "source": [
        "# Step 1: Count total users and users with email addresses for hireable users\n",
        "hireable_users = users[users['hireable'] == True]\n",
        "non_hireable_users = users[users['hireable'] == False]\n",
        "\n",
        "# Count total users\n",
        "total_hireable = len(hireable_users)\n",
        "total_non_hireable = len(non_hireable_users)\n",
        "\n",
        "# Count users with email addresses\n",
        "hireable_with_email = hireable_users['email'].notna().sum()\n",
        "non_hireable_with_email = non_hireable_users['email'].notna().sum()\n",
        "\n",
        "# Step 2: Calculate fractions\n",
        "if total_hireable > 0:\n",
        "    hireable_email_fraction = hireable_with_email / total_hireable\n",
        "else:\n",
        "    hireable_email_fraction = 0\n",
        "\n",
        "if total_non_hireable > 0:\n",
        "    non_hireable_email_fraction = non_hireable_with_email / total_non_hireable\n",
        "else:\n",
        "    non_hireable_email_fraction = 0\n",
        "\n",
        "# Step 3: Calculate the difference\n",
        "difference = hireable_email_fraction - non_hireable_email_fraction\n",
        "\n",
        "# Display the result rounded to 3 decimal places\n",
        "print(f\"Difference in email sharing fraction: {difference:.3f}\")\n"
      ],
      "metadata": {
        "colab": {
          "base_uri": "https://localhost:8080/"
        },
        "id": "6sBN8Bn1kCHD",
        "outputId": "b331cc07-7ed7-438b-9999-81a4ac2f5824"
      },
      "execution_count": null,
      "outputs": [
        {
          "output_type": "stream",
          "name": "stdout",
          "text": [
            "Difference in email sharing fraction: 0.000\n"
          ]
        }
      ]
    },
    {
      "cell_type": "markdown",
      "source": [
        "## 16"
      ],
      "metadata": {
        "id": "sWHNvSwokY0V"
      }
    },
    {
      "cell_type": "code",
      "source": [
        "# Remove missing names and trim whitespace\n",
        "users['name'] = users['name'].dropna().str.strip()\n",
        "\n",
        "# Extract surnames (last word in the name)\n",
        "users['surname'] = users['name'].str.split().str[-1]\n",
        "\n",
        "# Count occurrences of each surname\n",
        "surname_counts = users['surname'].value_counts()\n",
        "\n",
        "# Find the maximum count\n",
        "max_count = surname_counts.max()\n",
        "\n",
        "# Get the most common surnames with the maximum count\n",
        "most_common_surnames = surname_counts[surname_counts == max_count].index.tolist()\n",
        "\n",
        "# Sort the surnames alphabetically\n",
        "most_common_surnames.sort()\n",
        "\n",
        "# Print the result\n",
        "print(\"The most common surname(s):\", \", \".join(most_common_surnames))\n"
      ],
      "metadata": {
        "colab": {
          "base_uri": "https://localhost:8080/"
        },
        "id": "hfNLO9SzkZrm",
        "outputId": "a66ccac0-6dbd-41d0-91c3-5bda9a1087b4"
      },
      "execution_count": null,
      "outputs": [
        {
          "output_type": "stream",
          "name": "stdout",
          "text": [
            "The most common surname(s): Zhang\n"
          ]
        }
      ]
    }
  ]
}